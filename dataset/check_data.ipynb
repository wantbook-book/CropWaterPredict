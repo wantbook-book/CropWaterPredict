{
 "cells": [
  {
   "cell_type": "code",
   "execution_count": 2,
   "metadata": {},
   "outputs": [],
   "source": [
    "import pandas as pd\n",
    "from pathlib import Path\n",
    "from datetime import datetime\n",
    "import numpy as np\n",
    "from dataset import CropInfoDataset\n",
    "from torchvision.transforms import ToTensor"
   ]
  },
  {
   "cell_type": "code",
   "execution_count": 12,
   "metadata": {},
   "outputs": [],
   "source": [
    "file_path = Path('./check_data.ipynb').resolve().parents[1] / 'data/series_data/sapflow_data.CSV'\n",
    "sapflow_csv = pd.read_csv(file_path)\n",
    "sapflow_csv['date'] = pd.to_datetime(sapflow_csv['date'])"
   ]
  },
  {
   "cell_type": "code",
   "execution_count": 20,
   "metadata": {},
   "outputs": [
    {
     "name": "stdout",
     "output_type": "stream",
     "text": [
      "NaT\n",
      "True\n",
      "nan\n",
      "True\n"
     ]
    }
   ],
   "source": [
    "for index, row in sapflow_csv.iterrows():\n",
    "    print(row['21'])\n",
    "    print(pd.isna(row['21']))\n",
    "    break\n",
    "\n",
    "print(sapflow_csv.loc[784]['21'])\n",
    "print(pd.isna(sapflow_csv.loc[784]['21']))"
   ]
  }
 ],
 "metadata": {
  "kernelspec": {
   "display_name": "venv",
   "language": "python",
   "name": "python3"
  },
  "language_info": {
   "codemirror_mode": {
    "name": "ipython",
    "version": 3
   },
   "file_extension": ".py",
   "mimetype": "text/x-python",
   "name": "python",
   "nbconvert_exporter": "python",
   "pygments_lexer": "ipython3",
   "version": "3.10.7"
  }
 },
 "nbformat": 4,
 "nbformat_minor": 2
}
