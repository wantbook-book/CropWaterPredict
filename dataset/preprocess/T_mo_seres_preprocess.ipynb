{
 "cells": [
  {
   "cell_type": "code",
   "execution_count": 41,
   "metadata": {},
   "outputs": [],
   "source": [
    "import pandas as pd\n",
    "from pathlib import Path\n",
    "from datetime import datetime\n",
    "import json\n",
    "# time_str = \"2023-11-08 10:07:33\"\n",
    "\n",
    "time_format = \"%Y-%m-%d %H:%M:%S\"\n",
    "need_time = [\n",
    "    (11, 12),\n",
    "    (11, 16),\n",
    "    (11, 20),\n",
    "    (11, 24),\n",
    "    (11, 27),\n",
    "    (12, 2),\n",
    "    (12, 6),\n",
    "    (12, 10),\n",
    "    (12, 16),\n",
    "]\n",
    "day_step = 3\n",
    "data_num_per_day = 48\n",
    "# dt_obj = datetime.strptime(time_str, time_format)\n",
    "filename = 'E:\\onedrive\\桌面\\毕业设计\\算法\\data\\series_data\\温湿度时间序列数据.csv'\n",
    "df = pd.read_csv(filename, encoding='GBK')  # 返回一个DataFrame对象\n",
    "\n"
   ]
  },
  {
   "cell_type": "code",
   "execution_count": 42,
   "metadata": {},
   "outputs": [],
   "source": [
    "T_mo_data = {}\n",
    "# total_rows = len(df)\n",
    "for index, row in df.iterrows():\n",
    "    if len(need_time) == 0:\n",
    "        break\n",
    "    dt_time = datetime.strptime(row['time'], time_format)\n",
    "    month, day = dt_time.month, dt_time.day\n",
    "    if (month, day) == need_time[0]:\n",
    "        data_slice = df[index-day_step*data_num_per_day:index + (day_step+1) * data_num_per_day].to_numpy()[:, 1:]\n",
    "        data_slice[:, 0] = [datetime.strptime(i, time_format).timestamp() for i in data_slice[:, 0]]\n",
    "        T_mo_data[f'{month}-{day}'] = data_slice.tolist()\n",
    "        # print(data_slice.shape)\n",
    "        del need_time[0]"
   ]
  },
  {
   "cell_type": "code",
   "execution_count": 43,
   "metadata": {},
   "outputs": [],
   "source": [
    "with open('T_mo_data.json', 'w', encoding='utf-8') as f:\n",
    "    json.dump(T_mo_data, f, ensure_ascii=False, indent=4)"
   ]
  }
 ],
 "metadata": {
  "kernelspec": {
   "display_name": "venv",
   "language": "python",
   "name": "python3"
  },
  "language_info": {
   "codemirror_mode": {
    "name": "ipython",
    "version": 3
   },
   "file_extension": ".py",
   "mimetype": "text/x-python",
   "name": "python",
   "nbconvert_exporter": "python",
   "pygments_lexer": "ipython3",
   "version": "3.7.9"
  }
 },
 "nbformat": 4,
 "nbformat_minor": 2
}
