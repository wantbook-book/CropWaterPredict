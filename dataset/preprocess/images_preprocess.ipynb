{
 "cells": [
  {
   "cell_type": "code",
   "execution_count": 9,
   "metadata": {},
   "outputs": [],
   "source": [
    "from pathlib import Path\n",
    "import os\n",
    "import os.path as osp\n",
    "import sys\n",
    "import json"
   ]
  },
  {
   "cell_type": "code",
   "execution_count": 6,
   "metadata": {},
   "outputs": [],
   "source": [
    "IMAGE_SUFFIXES = ['.jpg', '.jpeg', '.png', '.bmp', '.gif', '.tiff', '.webp']"
   ]
  },
  {
   "cell_type": "code",
   "execution_count": 11,
   "metadata": {},
   "outputs": [],
   "source": [
    "images_data = {}\n",
    "# 定义要列出文件和目录的路径\n",
    "directory_path = Path('../../data/rgb_images').resolve()\n",
    "for path in directory_path.iterdir():\n",
    "    if path.is_dir():\n",
    "        date = path.name\n",
    "        images_path = []\n",
    "        for file in path.iterdir():\n",
    "            if file.is_file():\n",
    "                if file.suffix.lower() in IMAGE_SUFFIXES:\n",
    "                    images_path.append(str(file))\n",
    "        images_data[date] = images_path\n"
   ]
  },
  {
   "cell_type": "code",
   "execution_count": 12,
   "metadata": {},
   "outputs": [],
   "source": [
    "with open('images_data.json', 'w', encoding='utf-8') as f:\n",
    "    json.dump(images_data, f, ensure_ascii=False, indent=4)"
   ]
  }
 ],
 "metadata": {
  "kernelspec": {
   "display_name": "venv",
   "language": "python",
   "name": "python3"
  },
  "language_info": {
   "codemirror_mode": {
    "name": "ipython",
    "version": 3
   },
   "file_extension": ".py",
   "mimetype": "text/x-python",
   "name": "python",
   "nbconvert_exporter": "python",
   "pygments_lexer": "ipython3",
   "version": "3.10.7"
  }
 },
 "nbformat": 4,
 "nbformat_minor": 2
}
