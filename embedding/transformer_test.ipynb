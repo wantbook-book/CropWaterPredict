{
 "cells": [
  {
   "cell_type": "code",
   "execution_count": 28,
   "metadata": {},
   "outputs": [],
   "source": [
    "import torch\n",
    "import torch.nn as nn\n",
    "import math\n",
    "\n",
    "class PositionalEncoding(nn.Module):\n",
    "    def __init__(self, d_model, max_len=5000):\n",
    "        super(PositionalEncoding, self).__init__()\n",
    "        pe = torch.zeros(max_len, d_model)\n",
    "        position = torch.arange(0, max_len, dtype=torch.float).unsqueeze(1)\n",
    "        div_term = torch.exp(torch.arange(0, d_model, 2).float() * (-math.log(10000.0) / d_model))\n",
    "        pe[:, 0::2] = torch.sin(position * div_term)\n",
    "        pe[:, 1::2] = torch.cos(position * div_term)\n",
    "        pe = pe.unsqueeze(0).transpose(0, 1)\n",
    "        self.register_buffer('pe', pe)\n",
    "\n",
    "    def forward(self, x):\n",
    "        x = x + self.pe[:x.size(0), :]\n",
    "        return x\n",
    "\n",
    "class TransformerEncoder(nn.Module):\n",
    "    def __init__(self, input_dim, d_model, nhead, nhid, nlayers, dropout=0.5):\n",
    "        super(TransformerEncoder, self).__init__()\n",
    "        self.model_type = 'Transformer'\n",
    "        self.d_model = d_model\n",
    "        self.pos_encoder = PositionalEncoding(d_model)\n",
    "        encoder_layers = nn.TransformerEncoderLayer(d_model=d_model, nhead=nhead, dim_feedforward=nhid, dropout=dropout)\n",
    "        self.transformer_encoder = nn.TransformerEncoder(encoder_layer=encoder_layers, num_layers=nlayers)\n",
    "        self.encoder = nn.Linear(input_dim, d_model)\n",
    "        # self.decoder = nn.Linear(d_model, input_dim)\n",
    "        self.init_weights()\n",
    "\n",
    "    def init_weights(self):\n",
    "        initrange = 0.1\n",
    "        self.encoder.weight.data.uniform_(-initrange, initrange)\n",
    "        # self.decoder.weight.data.uniform_(-initrange, initrange)\n",
    "\n",
    "    def forward(self, src):\n",
    "        src = self.encoder(src) * math.sqrt(self.d_model)\n",
    "        src = self.pos_encoder(src)\n",
    "        output = self.transformer_encoder(src)\n",
    "        # output = self.decoder(output)\n",
    "        return output\n"
   ]
  },
  {
   "cell_type": "code",
   "execution_count": 29,
   "metadata": {},
   "outputs": [],
   "source": [
    "# 使用简化的模型参数进行示例\n",
    "d_model = 512  # 模型的隐藏层维度\n",
    "nhead = 8  # 多头注意力机制中的头数\n",
    "nhid = 2048  # 前馈网络的维度\n",
    "nlayers = 2  # Transformer编码器层的数量，为简化起见使用2层\n",
    "dropout = 0.1  # Dropout率\n",
    "\n",
    "# 实例化模型\n",
    "model = TransformerEncoder(input_dim=2, d_model=d_model, nhead=nhead, nhid=nhid, nlayers=nlayers, dropout=dropout)"
   ]
  },
  {
   "cell_type": "code",
   "execution_count": 30,
   "metadata": {},
   "outputs": [
    {
     "name": "stdout",
     "output_type": "stream",
     "text": [
      "torch.Size([4, 1, 2])\n"
     ]
    }
   ],
   "source": [
    "# 示例数据\n",
    "times = [12, 13, 14, 16]  # 时间点（小时）\n",
    "temperatures = [28, 29, 27, 20]  # 温度值\n",
    "\n",
    "input_data = []\n",
    "for t, temp in zip(times, temperatures):\n",
    "    input_data.append([t, temp])\n",
    "# 将数据转换为模型期望的格式 [seq_len, batch_size, input_dim]\n",
    "# 这里，seq_len=4（因为有4个时间点），batch_size=1（单个序列），input_dim=1（每个时间点的温度值）\n",
    "input_features = torch.tensor(input_data, dtype=torch.float).unsqueeze(1)\n",
    "\n",
    "print(input_features.shape)  # 输出：torch.Size([4, 1, 1])"
   ]
  },
  {
   "cell_type": "code",
   "execution_count": 31,
   "metadata": {},
   "outputs": [
    {
     "name": "stdout",
     "output_type": "stream",
     "text": [
      "torch.Size([4, 1, 512])\n"
     ]
    }
   ],
   "source": [
    "# 注意：在实际应用中，你需要先训练模型，这里假设模型已经训练完成\n",
    "\n",
    "# 使用模型对数据进行编码\n",
    "encoded_features = model(input_features)\n",
    "\n",
    "print(encoded_features.shape)  # 输出形状，例如：torch.Size([4, 1, 512])"
   ]
  }
 ],
 "metadata": {
  "kernelspec": {
   "display_name": "venv",
   "language": "python",
   "name": "python3"
  },
  "language_info": {
   "codemirror_mode": {
    "name": "ipython",
    "version": 3
   },
   "file_extension": ".py",
   "mimetype": "text/x-python",
   "name": "python",
   "nbconvert_exporter": "python",
   "pygments_lexer": "ipython3",
   "version": "3.7.9"
  }
 },
 "nbformat": 4,
 "nbformat_minor": 2
}
