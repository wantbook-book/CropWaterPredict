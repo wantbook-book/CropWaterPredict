{
 "cells": [
  {
   "cell_type": "code",
   "execution_count": 7,
   "metadata": {},
   "outputs": [],
   "source": [
    "import sys\n",
    "sys.path.append('..')\n",
    "from dataset.dataset import CropInfoDataset\n",
    "from pathlib import Path\n",
    "from torchvision.transforms import ToTensor"
   ]
  },
  {
   "cell_type": "code",
   "execution_count": 4,
   "metadata": {},
   "outputs": [],
   "source": [
    "src_dir = Path('./test_dataset.ipynb').resolve().parent.parent\n",
    "rgb_image_dir = src_dir / 'data' / 'rgb_images'\n",
    "infrared_image_dir = src_dir / 'data' / 'thermal_data_processed'\n",
    "T_moisture_data_file_path = src_dir / 'data' / 'series_data' / 'T_moisture_data.csv'\n",
    "sapflow_data_file_path = src_dir / 'data' / 'series_data' / 'sapflow_data.CSV'\n",
    "labels_file_path = src_dir / 'data' / 'labels' / 'soil_water_content.CSV'\n"
   ]
  },
  {
   "cell_type": "code",
   "execution_count": 9,
   "metadata": {},
   "outputs": [],
   "source": [
    "dataset = CropInfoDataset(\n",
    "    rgb_images_directory=rgb_image_dir,\n",
    "    T_moisture_data_file_path=T_moisture_data_file_path,\n",
    "    labels_file_path=labels_file_path,\n",
    "    transform=ToTensor()\n",
    ")"
   ]
  },
  {
   "cell_type": "code",
   "execution_count": 10,
   "metadata": {},
   "outputs": [],
   "source": [
    "for rgb, tm, labels, _ in dataset:\n",
    "    break"
   ]
  },
  {
   "cell_type": "code",
   "execution_count": 19,
   "metadata": {},
   "outputs": [
    {
     "name": "stdout",
     "output_type": "stream",
     "text": [
      "tensor([[1.6780e+06, 2.0500e+01, 5.2200e+01],\n",
      "        [1.6798e+06, 2.0200e+01, 5.5300e+01],\n",
      "        [1.6816e+06, 2.0300e+01, 5.6700e+01],\n",
      "        [1.6834e+06, 2.0000e+01, 5.8200e+01],\n",
      "        [1.6852e+06, 2.1600e+01, 5.5600e+01],\n",
      "        [1.6870e+06, 1.9700e+01, 6.0700e+01],\n",
      "        [1.6888e+06, 1.9800e+01, 6.3000e+01],\n",
      "        [1.6906e+06, 2.0000e+01, 6.3400e+01],\n",
      "        [1.6924e+06, 1.9800e+01, 6.5200e+01],\n",
      "        [1.6942e+06, 2.0000e+01, 6.6000e+01],\n",
      "        [1.6960e+06, 1.9800e+01, 6.6200e+01],\n",
      "        [1.6978e+06, 1.9800e+01, 6.7300e+01],\n",
      "        [1.6996e+06, 2.0300e+01, 6.5800e+01],\n",
      "        [1.7014e+06, 1.9200e+01, 6.9500e+01],\n",
      "        [1.7032e+06, 1.8600e+01, 7.2100e+01],\n",
      "        [1.7050e+06, 1.8100e+01, 7.5500e+01],\n",
      "        [1.7068e+06, 1.7400e+01, 7.8000e+01],\n",
      "        [1.7086e+06, 1.7800e+01, 7.9400e+01],\n",
      "        [1.7104e+06, 1.8000e+01, 7.7100e+01],\n",
      "        [1.7122e+06, 1.8200e+01, 7.7600e+01],\n",
      "        [1.7140e+06, 1.8300e+01, 7.6800e+01],\n",
      "        [1.7158e+06, 1.8200e+01, 7.6800e+01],\n",
      "        [1.7176e+06, 1.8100e+01, 7.7400e+01],\n",
      "        [1.7194e+06, 1.8300e+01, 7.6800e+01],\n",
      "        [1.7212e+06, 1.8300e+01, 7.6800e+01],\n",
      "        [1.7230e+06, 1.7900e+01, 7.9100e+01],\n",
      "        [1.7248e+06, 1.7500e+01, 8.1000e+01],\n",
      "        [1.7266e+06, 1.7200e+01, 8.2800e+01],\n",
      "        [1.7284e+06, 1.7300e+01, 8.3200e+01],\n",
      "        [1.7302e+06, 1.7000e+01, 8.4300e+01],\n",
      "        [1.7320e+06, 1.7000e+01, 8.4500e+01],\n",
      "        [1.7338e+06, 1.6700e+01, 8.5700e+01],\n",
      "        [1.7356e+06, 1.6500e+01, 8.6400e+01],\n",
      "        [1.7374e+06, 1.6300e+01, 8.7400e+01],\n",
      "        [1.7392e+06, 1.6400e+01, 8.7000e+01],\n",
      "        [1.7410e+06, 1.6600e+01, 8.7200e+01],\n",
      "        [1.7428e+06, 1.6200e+01, 8.8100e+01],\n",
      "        [1.7446e+06, 1.6100e+01, 8.8500e+01],\n",
      "        [1.7464e+06, 1.6000e+01, 8.8800e+01],\n",
      "        [1.7482e+06, 1.6200e+01, 8.9400e+01],\n",
      "        [1.7500e+06, 1.6200e+01, 8.9400e+01],\n",
      "        [1.7518e+06, 1.6300e+01, 8.8700e+01],\n",
      "        [1.7536e+06, 1.7300e+01, 8.6100e+01],\n",
      "        [1.7554e+06, 1.7900e+01, 8.3400e+01],\n",
      "        [1.7572e+06, 1.8200e+01, 8.1600e+01],\n",
      "        [1.7590e+06, 1.9500e+01, 7.8500e+01],\n",
      "        [1.7608e+06, 2.0300e+01, 7.5400e+01],\n",
      "        [1.7626e+06, 2.0800e+01, 7.3400e+01],\n",
      "        [1.7644e+06, 2.0700e+01, 7.3600e+01],\n",
      "        [1.7662e+06, 2.1700e+01, 7.1000e+01],\n",
      "        [1.7680e+06, 2.2100e+01, 7.0300e+01],\n",
      "        [1.7698e+06, 2.2100e+01, 6.9900e+01],\n",
      "        [1.7716e+06, 2.1100e+01, 7.2000e+01],\n",
      "        [1.7734e+06, 1.9800e+01, 7.7900e+01],\n",
      "        [1.7752e+06, 1.9300e+01, 8.2200e+01],\n",
      "        [1.7770e+06, 1.8400e+01, 8.8500e+01],\n",
      "        [1.7788e+06, 1.8000e+01, 9.0700e+01],\n",
      "        [1.7806e+06, 1.7600e+01, 9.2900e+01],\n",
      "        [1.7824e+06, 1.7500e+01, 9.2500e+01],\n",
      "        [1.7842e+06, 1.8000e+01, 9.2000e+01],\n",
      "        [1.7860e+06, 1.8000e+01, 9.2200e+01],\n",
      "        [1.7878e+06, 1.7400e+01, 9.3200e+01],\n",
      "        [1.7896e+06, 1.7900e+01, 9.2600e+01],\n",
      "        [1.7914e+06, 1.7500e+01, 9.3100e+01],\n",
      "        [1.7932e+06, 1.6900e+01, 9.4200e+01],\n",
      "        [1.7950e+06, 1.6900e+01, 9.3800e+01],\n",
      "        [1.7968e+06, 1.7000e+01, 9.3700e+01],\n",
      "        [1.7986e+06, 1.7200e+01, 9.4200e+01],\n",
      "        [1.8004e+06, 1.7200e+01, 9.4300e+01],\n",
      "        [1.8022e+06, 1.7100e+01, 9.3700e+01],\n",
      "        [1.8040e+06, 1.6800e+01, 9.4500e+01],\n",
      "        [1.8058e+06, 1.6200e+01, 9.4600e+01],\n",
      "        [1.8076e+06, 1.6000e+01, 9.3500e+01],\n",
      "        [1.8094e+06, 1.5800e+01, 9.3600e+01],\n",
      "        [1.8112e+06, 1.5900e+01, 9.3900e+01],\n",
      "        [1.8130e+06, 1.5900e+01, 9.2800e+01]])\n",
      "torch.Size([3, 4000, 6000])\n"
     ]
    }
   ],
   "source": [
    "rgb, tm, labels, _ = dataset[0]\n",
    "print(tm)\n",
    "print(rgb.shape)"
   ]
  },
  {
   "cell_type": "code",
   "execution_count": 35,
   "metadata": {},
   "outputs": [
    {
     "name": "stdout",
     "output_type": "stream",
     "text": [
      "torch.Size([144, 3])\n"
     ]
    }
   ],
   "source": [
    "rgb, tm, labels, _ = dataset[72]\n",
    "print(tm.shape)"
   ]
  }
 ],
 "metadata": {
  "kernelspec": {
   "display_name": "venv",
   "language": "python",
   "name": "python3"
  },
  "language_info": {
   "codemirror_mode": {
    "name": "ipython",
    "version": 3
   },
   "file_extension": ".py",
   "mimetype": "text/x-python",
   "name": "python",
   "nbconvert_exporter": "python",
   "pygments_lexer": "ipython3",
   "version": "3.10.7"
  }
 },
 "nbformat": 4,
 "nbformat_minor": 2
}
