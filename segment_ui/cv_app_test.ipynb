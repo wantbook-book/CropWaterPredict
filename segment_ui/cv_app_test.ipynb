{
 "cells": [
  {
   "cell_type": "code",
   "execution_count": 2,
   "metadata": {},
   "outputs": [],
   "source": [
    "import cv2\n",
    "import numpy as np\n",
    "import sys\n",
    "from pathlib import Path\n",
    "from segment_anything import sam_model_registry, SamPredictor"
   ]
  },
  {
   "cell_type": "code",
   "execution_count": 3,
   "metadata": {},
   "outputs": [],
   "source": [
    "sam_checkpoint = \"weights/sam_vit_h_4b8939.pth\"\n",
    "model_type = \"vit_h\"\n",
    "# device = \"cuda\"\n",
    "sam = sam_model_registry[model_type](checkpoint=sam_checkpoint)\n",
    "# sam.to(device=device)\n",
    "predictor = SamPredictor(sam)"
   ]
  },
  {
   "cell_type": "code",
   "execution_count": 4,
   "metadata": {},
   "outputs": [],
   "source": [
    "image_file = Path(r'..\\data\\rgb_images\\11-1\\DSC_0537 (Pot 2) .JPG')\n",
    "image = cv2.imread(str(image_file))"
   ]
  },
  {
   "cell_type": "code",
   "execution_count": 5,
   "metadata": {},
   "outputs": [],
   "source": [
    "input_points = np.array([[200,200]])\n",
    "input_labels = np.array([1])"
   ]
  },
  {
   "cell_type": "code",
   "execution_count": 6,
   "metadata": {},
   "outputs": [],
   "source": [
    "predictor.set_image(image)"
   ]
  },
  {
   "cell_type": "code",
   "execution_count": 9,
   "metadata": {},
   "outputs": [],
   "source": [
    "masks, scores, logits = predictor.predict(\n",
    "    point_coords=np.array(input_points),\n",
    "    point_labels=np.array(input_labels),\n",
    "    multimask_output=True,\n",
    ")"
   ]
  },
  {
   "cell_type": "code",
   "execution_count": 8,
   "metadata": {},
   "outputs": [],
   "source": [
    "for mask in masks:\n",
    "    color = np.array([30/255, 144/255, 255/255], dtype=np.float32)\n",
    "    h, w = mask.shape[-2:]\n",
    "    mask = mask.reshape(h,w,1) * color.reshape(1,1,-1)\n",
    "    image = cv2.addWeighted(image.astype(np.float32)/, 0.5, mask, 0.5, 0)"
   ]
  },
  {
   "cell_type": "code",
   "execution_count": 13,
   "metadata": {},
   "outputs": [],
   "source": [
    "mask = np.any(masks, axis=0)\n",
    "mask_3d = np.repeat(mask[:, :, np.newaxis], 3, axis=2)\n",
    "mask_image = np.copy(image)\n",
    "color = np.array([255, 144, 30], dtype=np.uint8)\n",
    "mask_image[mask] = color\n",
    "image_processed = cv2.addWeighted(image, 0.5, mask_image, 0.5, 0)"
   ]
  },
  {
   "cell_type": "code",
   "execution_count": 14,
   "metadata": {},
   "outputs": [
    {
     "name": "stdout",
     "output_type": "stream",
     "text": [
      "[[ True False]\n",
      " [ True False]]\n",
      "[[1 0]\n",
      " [1 0]]\n"
     ]
    }
   ],
   "source": [
    "bb = np.array([[True, False], [True,False]])\n",
    "print(bb)\n",
    "print(bb.astype(np.uint8))"
   ]
  }
 ],
 "metadata": {
  "kernelspec": {
   "display_name": "venv",
   "language": "python",
   "name": "python3"
  },
  "language_info": {
   "codemirror_mode": {
    "name": "ipython",
    "version": 3
   },
   "file_extension": ".py",
   "mimetype": "text/x-python",
   "name": "python",
   "nbconvert_exporter": "python",
   "pygments_lexer": "ipython3",
   "version": "3.10.7"
  }
 },
 "nbformat": 4,
 "nbformat_minor": 2
}
